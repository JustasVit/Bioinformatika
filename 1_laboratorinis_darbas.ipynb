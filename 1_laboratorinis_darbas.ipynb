{
  "nbformat": 4,
  "nbformat_minor": 0,
  "metadata": {
    "colab": {
      "provenance": [],
      "collapsed_sections": []
    },
    "kernelspec": {
      "name": "python3",
      "display_name": "Python 3"
    },
    "language_info": {
      "name": "python"
    }
  },
  "cells": [
    {
      "cell_type": "code",
      "source": [
        "# Reikalingos bibliotekos\n",
        "\n",
        "!pip install biopython\n",
        "from Bio.Seq import Seq\n",
        "from Bio import SeqIO\n",
        "from google.colab import drive\n",
        "drive.mount('/content/drive/')"
      ],
      "metadata": {
        "colab": {
          "base_uri": "https://localhost:8080/"
        },
        "id": "VMMBXD7rn53c",
        "outputId": "57d31817-fc12-4509-d390-c0d6431f0d56"
      },
      "execution_count": null,
      "outputs": [
        {
          "output_type": "stream",
          "name": "stdout",
          "text": [
            "Looking in indexes: https://pypi.org/simple, https://us-python.pkg.dev/colab-wheels/public/simple/\n",
            "Collecting biopython\n",
            "  Downloading biopython-1.79-cp37-cp37m-manylinux_2_17_x86_64.manylinux2014_x86_64.whl (2.6 MB)\n",
            "\u001b[K     |████████████████████████████████| 2.6 MB 7.7 MB/s \n",
            "\u001b[?25hRequirement already satisfied: numpy in /usr/local/lib/python3.7/dist-packages (from biopython) (1.21.6)\n",
            "Installing collected packages: biopython\n",
            "Successfully installed biopython-1.79\n",
            "Drive already mounted at /content/drive/; to attempt to forcibly remount, call drive.mount(\"/content/drive/\", force_remount=True).\n"
          ]
        }
      ]
    },
    {
      "cell_type": "code",
      "source": [
        "# Funkcijos visų galimų kodonų ir dikodonų sąrašams sugeneruoti.\n",
        "\n",
        "def generateAllPossibleCodons():\n",
        "  codons = []\n",
        "  letters = ['A','T','C','G']\n",
        "  for first_letter in letters:\n",
        "    for second_letter in letters:\n",
        "      for third_letter in letters:\n",
        "        codons.append(first_letter + second_letter + third_letter)\n",
        "  return codons\n",
        "\n",
        "def generateAllPossibleDicodons():\n",
        "    all_codons = generateAllPossibleCodons()\n",
        "    dicodons = []\n",
        "    \n",
        "    for first_codon in all_codons:\n",
        "      for second_codon in all_codons:\n",
        "        dicodons.append(first_codon + second_codon)\n",
        "\n",
        "    return dicodons"
      ],
      "metadata": {
        "id": "qb8iieYwVJS9"
      },
      "execution_count": null,
      "outputs": []
    },
    {
      "cell_type": "code",
      "source": [
        "# Konstantinės reikšmės\n",
        "\n",
        "START_CODONS = ['ATG']\n",
        "END_CODONS = ['TAG', 'TAA', 'TGA']\n",
        "ALL_POSSIBLE_CODONS = generateAllPossibleCodons()\n",
        "ALL_POSSIBLE_DICODONS = generateAllPossibleDicodons()"
      ],
      "metadata": {
        "id": "dbNLpkR0qCwk"
      },
      "execution_count": null,
      "outputs": []
    },
    {
      "cell_type": "code",
      "source": [
        "# Funkcija, skirta surasti start ir stop kodonų pozicijas sekoje. Ieškant start ir stop kodonų pozicijų, atsižvelgiama į skaitymo rėmelį.\n",
        "\n",
        "def findCodonPositions(sequence):\n",
        "  sequence_length = len(sequence)\n",
        "\n",
        "  start_codons = {0:[], 1:[], 2:[]}\n",
        "  end_codons = {0:[], 1:[], 2:[]}\n",
        "\n",
        "  i = 0\n",
        "  frame = 0\n",
        "\n",
        "  while i < sequence_length - 2:\n",
        "    possible_codon = str(sequence[i:i + 3])\n",
        "\n",
        "    if possible_codon in START_CODONS:\n",
        "      start_codons.get(frame).append(i)\n",
        "\n",
        "    if possible_codon in END_CODONS:\n",
        "      end_codons.get(frame).append(i + 3)\n",
        "\n",
        "    i+=1\n",
        "    frame = (frame + 1) % 3\n",
        "\n",
        "  return start_codons, end_codons"
      ],
      "metadata": {
        "id": "fWI50Yo2_p-C"
      },
      "execution_count": null,
      "outputs": []
    },
    {
      "cell_type": "code",
      "source": [
        "# Funkcija, skirta rasti sekos fragmentams, kurios prasideda start ir baigiasi stop kodonu.\n",
        "\n",
        "def findFragments(start_codon_positions, end_codon_positions):\n",
        "\n",
        "  codon_pairs = []\n",
        "\n",
        "  for start in start_codon_positions:\n",
        "    nearest_end_codon = max(end_codon_positions)\n",
        "    for end in end_codon_positions:\n",
        "      if start < end and end < nearest_end_codon:\n",
        "        nearest_end_codon = end\n",
        "    if(start < nearest_end_codon):\n",
        "      codon_pairs.append((start,nearest_end_codon))\n",
        "  return codon_pairs"
      ],
      "metadata": {
        "id": "3LgBX0hSSwC5"
      },
      "execution_count": null,
      "outputs": []
    },
    {
      "cell_type": "code",
      "source": [
        "# Funkcija, skirta surasti ilgiausius sekos fragmentus. Trumpesni fragmentai, kurie patenka į ilgesnius fragmentus yra atmetami.\n",
        "\n",
        "def findLongestFragments(codon_pair_list):\n",
        "  unique_stop_codon_positions = []\n",
        "  for codon_pair in codon_pair_list:\n",
        "    unique_stop_codon_positions.append(codon_pair[1])\n",
        "  unique_stop_codon_positions = list(set(unique_stop_codon_positions))\n",
        "\n",
        "  longest_codon_pairs = []\n",
        "  for i in range(len(codon_pair_list)):\n",
        "    longest_codon_pair = codon_pair_list[i]\n",
        "    if longest_codon_pair[1] in unique_stop_codon_positions:\n",
        "      unique_stop_codon_positions.remove(longest_codon_pair[1])\n",
        "      for j in range(i+1,(len(codon_pair_list))):\n",
        "        if longest_codon_pair[1] == codon_pair_list[j][1]:\n",
        "          if longest_codon_pair[0] > codon_pair_list[j][0]:\n",
        "            longest_codon_pair = codon_pair_list[j]\n",
        "      longest_codon_pairs.append(longest_codon_pair)\n",
        "    else: \n",
        "      continue\n",
        "  return longest_codon_pairs"
      ],
      "metadata": {
        "id": "m_QJCTaSR0aD"
      },
      "execution_count": null,
      "outputs": []
    },
    {
      "cell_type": "code",
      "source": [
        "# Funkcija, skirta konvertuoti fragmentų pradžios ir pabaigos indeksų poras į fragmentus, sudarytus iš raidžių.\n",
        "\n",
        "def numericFragmentToAlphabeticFragment(sequence, sequence_fragments):\n",
        "  sequence_strings = []\n",
        "  for sequence_fragment in sequence_fragments:\n",
        "    sequence_strings.append(str(sequence[sequence_fragment[0]:sequence_fragment[1]])[3:-3])\n",
        "  return sequence_strings"
      ],
      "metadata": {
        "id": "-3QN0Tioq1vG"
      },
      "execution_count": null,
      "outputs": []
    },
    {
      "cell_type": "code",
      "source": [
        "# Funkcija, skirta atmesti trumpus fragmentus.\n",
        "\n",
        "\n",
        "def filterShortFragments(sequence_fragments):\n",
        "  filtered_fragments = []\n",
        "  for sequence_fragment in sequence_fragments:\n",
        "    if(len(sequence_fragment) > 106):\n",
        "      filtered_fragments.append(sequence_fragment)\n",
        "  return filtered_fragments"
      ],
      "metadata": {
        "id": "Yu8p_3Mu2m7x"
      },
      "execution_count": null,
      "outputs": []
    },
    {
      "cell_type": "code",
      "source": [
        "# Funkcijos, skirtos apskaičiuoti kodonų ir dikodonų dažniams vienoje sekoje.\n",
        "\n",
        "def findCodonsFrequency(sequence_fragments):\n",
        "  frequencies = {}\n",
        "\n",
        "  for codon in ALL_POSSIBLE_CODONS:\n",
        "      frequencies[codon] = 0\n",
        "\n",
        "  codonsCount = 0\n",
        "  i = 0\n",
        "\n",
        "  for sequence_fragment in sequence_fragments:\n",
        "    while i < len(sequence_fragment) - 2:\n",
        "      codon = sequence_fragment[i:i + 3]\n",
        "      frequencies[codon] += 1\n",
        "      codonsCount += 1\n",
        "      i += 1\n",
        "\n",
        "  for codon in ALL_POSSIBLE_CODONS:\n",
        "      frequencies[codon] = round(frequencies[codon] / codonsCount, 3)\n",
        "\n",
        "  return frequencies\n",
        "\n",
        "def findDicodonsFrequency(sequence_fragments):\n",
        "  frequencies = {}\n",
        "\n",
        "  for dicodon in ALL_POSSIBLE_DICODONS:\n",
        "      frequencies[dicodon] = 0\n",
        "\n",
        "  dicodonsCount = 0\n",
        "  i = 0\n",
        "\n",
        "  for sequence_fragment in sequence_fragments:\n",
        "    while i < len(sequence_fragment) - 5:\n",
        "      codon = sequence_fragment[i:i + 6]\n",
        "      frequencies[codon] += 1\n",
        "      i += 1\n",
        "      dicodonsCount += 1\n",
        "\n",
        "  for dicodon in ALL_POSSIBLE_DICODONS:\n",
        "      frequencies[dicodon] = round(frequencies[dicodon] / dicodonsCount, 3)\n",
        "\n",
        "  return frequencies"
      ],
      "metadata": {
        "id": "xX0s-p4a0Ute"
      },
      "execution_count": null,
      "outputs": []
    },
    {
      "cell_type": "code",
      "source": [
        "# Funkcijos, skirtos palyginti kodonų ir dikodonų dažnius tarp skirtingų sekų.\n",
        "\n",
        "def compareCodonFrequencies(frequency1, frequency2):\n",
        "  distance = 0\n",
        "  for i, codon in enumerate(ALL_POSSIBLE_CODONS):\n",
        "    distance += abs(frequency1[codon] - frequency2[codon])\n",
        "  return distance\n",
        "\n",
        "\n",
        "def compareDicodonFrequencies(frequency1, frequency2):\n",
        "  distance = 0\n",
        "  for i, dicodon in enumerate(ALL_POSSIBLE_DICODONS):\n",
        "    distance += abs(frequency1[dicodon] - frequency2[dicodon])\n",
        "  return distance"
      ],
      "metadata": {
        "id": "i7gOoazOCuSR"
      },
      "execution_count": null,
      "outputs": []
    },
    {
      "cell_type": "code",
      "source": [
        "def calculateFrequencies(sequence):\n",
        "  sequence_reverse_complement = sequence.reverse_complement()\n",
        "\n",
        "  #Susirandame abiejų sekų start ir stop kodonus\n",
        "\n",
        "  sequence_start_codons, sequence_end_codons = findCodonPositions(str(sequence.seq))\n",
        "  sequence_reverse_complement_start_codons, sequence_reverse_complement_end_codons = findCodonPositions(str(sequence_reverse_complement.seq))\n",
        "\n",
        "  # Susirandame abiejų sekų visus fragmentus, prasidedančius START ir pasibaigiančius STOP kodonu.\n",
        "\n",
        "  sequence_fragments_frame0 = findFragments(sequence_start_codons.get(0), sequence_end_codons.get(0))\n",
        "  sequence_reverse_complement_fragments_frame0 = findFragments(sequence_reverse_complement_start_codons.get(0), sequence_reverse_complement_end_codons.get(0))\n",
        "\n",
        "  sequence_fragments_frame1 = findFragments(sequence_start_codons.get(1), sequence_end_codons.get(1))\n",
        "  sequence_reverse_complement_fragments_frame1 = findFragments(sequence_reverse_complement_start_codons.get(1), sequence_reverse_complement_end_codons.get(1))\n",
        "\n",
        "  sequence_fragments_frame2 = findFragments(sequence_start_codons.get(2), sequence_end_codons.get(2))\n",
        "  sequence_reverse_complement_fragments_frame2 = findFragments(sequence_reverse_complement_start_codons.get(2), sequence_reverse_complement_end_codons.get(2))\n",
        "\n",
        "  # Surandame fragmentus, kuriu stop kodonas yra toliausiai nutoles nuo start kodono.\n",
        "\n",
        "  sequence_fragments_frame0 = findLongestFragments(sequence_fragments_frame0)\n",
        "  sequence_reverse_complement_fragments_frame0 = findLongestFragments(sequence_reverse_complement_fragments_frame0)\n",
        "\n",
        "  sequence_fragments_frame1 = findLongestFragments(sequence_fragments_frame1)\n",
        "  sequence_reverse_complement_fragments_frame1 = findLongestFragments(sequence_reverse_complement_fragments_frame1)\n",
        "\n",
        "  sequence_fragments_frame2 = findLongestFragments(sequence_fragments_frame2)\n",
        "  sequence_reverse_complement_fragments_frame2 = findLongestFragments(sequence_reverse_complement_fragments_frame2)\n",
        "\n",
        "  # Fragmentus paverčiame į jų tekstines išraiškas.\n",
        "\n",
        "  sequence_fragments_frame0 = numericFragmentToAlphabeticFragment(str(sequence.seq), sequence_fragments_frame0)\n",
        "  sequence_reverse_complement_fragments_frame0 = numericFragmentToAlphabeticFragment(str(sequence_reverse_complement.seq), sequence_reverse_complement_fragments_frame0)\n",
        "\n",
        "  sequence_fragments_frame1 = numericFragmentToAlphabeticFragment(str(sequence.seq), sequence_fragments_frame1)\n",
        "  sequence_reverse_complement_fragments_frame1 = numericFragmentToAlphabeticFragment(str(sequence_reverse_complement.seq), sequence_reverse_complement_fragments_frame1)\n",
        "\n",
        "  sequence_fragments_frame2 = numericFragmentToAlphabeticFragment(str(sequence.seq), sequence_fragments_frame2)\n",
        "  sequence_reverse_complement_fragments_frame2 = numericFragmentToAlphabeticFragment(str(sequence_reverse_complement.seq), sequence_reverse_complement_fragments_frame2)\n",
        "\n",
        "  all_fragments = sequence_fragments_frame0 + sequence_fragments_frame1 + sequence_fragments_frame2 + sequence_reverse_complement_fragments_frame0 + sequence_reverse_complement_fragments_frame1 + sequence_reverse_complement_fragments_frame2\n",
        "\n",
        "  all_fragments = filterShortFragments(all_fragments)\n",
        "\n",
        "  return {'codon_frequencies': findCodonsFrequency(all_fragments), 'dicodon_frequencies': findDicodonsFrequency(all_fragments)}"
      ],
      "metadata": {
        "id": "2qXPAjoGhqUG"
      },
      "execution_count": null,
      "outputs": []
    },
    {
      "cell_type": "code",
      "source": [
        "# Nuskaitome sekas ir apskaičiuojame jų kodonų ir dikodonų dažnius.\n",
        "\n",
        "data = [{'filename':'bacterial1.fasta','virus':'Lactococcus_phage'},\n",
        "        {'filename':'bacterial2.fasta','virus':'KM389305.1'},\n",
        "        {'filename':'bacterial3.fasta','virus':'NC_028697.1'},\n",
        "        {'filename':'bacterial4.fasta','virus':'KC821626.1'},\n",
        "        {'filename':'mamalian1.fasta','virus':'coronavirus'},\n",
        "        {'filename':'mamalian2.fasta','virus':'adenovirus'},\n",
        "        {'filename':'mamalian3.fasta','virus':'U18337.1'},\n",
        "        {'filename':'mamalian4.fasta','virus':'herpesvirus'}]\n",
        "\n",
        "frequencies = {}\n",
        "\n",
        "for data_element in data:\n",
        "  sequence = SeqIO.read(\"/content/drive/MyDrive/bio_lab_1/\" + data_element['filename'], \"fasta\")\n",
        "  frequencies[data_element['virus']] = calculateFrequencies(sequence)"
      ],
      "metadata": {
        "id": "OQlss3SmpeL0"
      },
      "execution_count": null,
      "outputs": []
    },
    {
      "cell_type": "code",
      "source": [
        "# Atliekame palyginimą pagal kodonų dažnius.\n",
        "\n",
        "for virus1 in data:\n",
        "  print(virus1['virus'],end = \" \")\n",
        "  for virus2 in data:\n",
        "    print(round(compareCodonFrequencies(frequencies[virus1['virus']]['codon_frequencies'],frequencies[virus2['virus']]['codon_frequencies']),3),end = \" \")\n",
        "  print()"
      ],
      "metadata": {
        "id": "nd5gmApG1Rab",
        "colab": {
          "base_uri": "https://localhost:8080/"
        },
        "outputId": "df23512c-7088-44c2-fd6f-5212f87101d9"
      },
      "execution_count": null,
      "outputs": [
        {
          "output_type": "stream",
          "name": "stdout",
          "text": [
            "Lactococcus_phage 0.0 0.468 0.389 0.389 0.368 0.54 0.425 0.828 \n",
            "KM389305.1 0.468 0.0 0.421 0.605 0.462 0.298 0.599 0.536 \n",
            "NC_028697.1 0.389 0.421 0.0 0.468 0.333 0.429 0.552 0.743 \n",
            "KC821626.1 0.389 0.605 0.468 0.0 0.385 0.667 0.382 0.993 \n",
            "coronavirus 0.368 0.462 0.333 0.385 0.0 0.518 0.415 0.802 \n",
            "adenovirus 0.54 0.298 0.429 0.667 0.518 0.0 0.685 0.506 \n",
            "U18337.1 0.425 0.599 0.552 0.382 0.415 0.685 0.0 0.927 \n",
            "herpesvirus 0.828 0.536 0.743 0.993 0.802 0.506 0.927 0.0 \n"
          ]
        }
      ]
    },
    {
      "cell_type": "code",
      "source": [
        "# Atliekame palyginimą pagal dikodonų dažnius.\n",
        "\n",
        "for virus1 in data:\n",
        "  print(virus1['virus'],end = \" \")\n",
        "  for virus2 in data:\n",
        "    print(round(compareDicodonFrequencies(frequencies[virus1['virus']]['dicodon_frequencies'],frequencies[virus2['virus']]['dicodon_frequencies']),3),end = \" \")\n",
        "  print()"
      ],
      "metadata": {
        "colab": {
          "base_uri": "https://localhost:8080/"
        },
        "id": "w0tP7NeZ1R-F",
        "outputId": "c787b2e4-5b49-40cc-fa81-4a83b95264f8"
      },
      "execution_count": null,
      "outputs": [
        {
          "output_type": "stream",
          "name": "stdout",
          "text": [
            "Lactococcus_phage 0.0 1.689 1.17 1.044 0.982 1.267 1.282 1.877 \n",
            "KM389305.1 1.689 0.0 1.801 1.827 1.723 1.726 1.875 2.022 \n",
            "NC_028697.1 1.17 1.801 0.0 1.23 1.06 1.333 1.432 1.971 \n",
            "KC821626.1 1.044 1.827 1.23 0.0 0.872 1.323 1.258 2.009 \n",
            "coronavirus 0.982 1.723 1.06 0.872 0.0 1.167 1.192 1.853 \n",
            "adenovirus 1.267 1.726 1.333 1.323 1.167 0.0 1.493 1.73 \n",
            "U18337.1 1.282 1.875 1.432 1.258 1.192 1.493 0.0 2.069 \n",
            "herpesvirus 1.877 2.022 1.971 2.009 1.853 1.73 2.069 0.0 \n"
          ]
        }
      ]
    }
  ]
}